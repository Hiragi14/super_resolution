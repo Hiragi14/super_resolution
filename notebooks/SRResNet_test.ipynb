{
 "cells": [
  {
   "cell_type": "code",
   "execution_count": 3,
   "id": "f0380594",
   "metadata": {},
   "outputs": [],
   "source": [
    "import torch\n",
    "import torch.nn as nn\n",
    "import torch.nn.functional as F\n",
    "\n",
    "\n",
    "class ResidualBlock(nn.Module):\n",
    "    def __init__(self, in_channels):\n",
    "        super(ResidualBlock, self).__init__()\n",
    "        self.rb = nn.Sequential(\n",
    "            nn.Conv2d(in_channels, in_channels, kernel_size=3, padding=1),\n",
    "            nn.BatchNorm2d(in_channels),\n",
    "            nn.PReLU(),\n",
    "            nn.Conv2d(in_channels, in_channels, kernel_size=3, padding=1),\n",
    "            nn.BatchNorm2d(in_channels)\n",
    "        )\n",
    "    def forward(self, x):\n",
    "        out = self.rb(x)\n",
    "        out = torch.add(x, out)\n",
    "        return out\n",
    "\n",
    "\n",
    "class UpSampleBlock(nn.Module):\n",
    "    def __init__(self, in_channels, out_channels, scale_factor=2):\n",
    "        super(UpSampleBlock, self).__init__()\n",
    "        self.upsample_block = nn.Sequential(\n",
    "            nn.Conv2d(in_channels, out_channels * (scale_factor ** 2), kernel_size=3, padding=1),\n",
    "            nn.PixelShuffle(scale_factor),\n",
    "            nn.PReLU()\n",
    "        )\n",
    "    def forward(self, x):\n",
    "        out = self.upsample_block(x)\n",
    "        return out\n",
    "\n",
    "\n",
    "class SRResNet(nn.Module):\n",
    "    def __init__(self, in_channels=3, out_channels=3, num_residual_blocks=16, upscale_factor=4):\n",
    "        super(SRResNet, self).__init__()\n",
    "        assert upscale_factor in [2, 4, 8], \"Upscale factor must be one of [2, 4, 8].\"\n",
    "        self.in_conv = nn.Sequential(\n",
    "            nn.Conv2d(in_channels, 64, kernel_size=3, padding=1),\n",
    "            nn.PReLU()\n",
    "        )\n",
    "        self.residual_blocks = nn.Sequential(\n",
    "            *[ResidualBlock(64) for _ in range(num_residual_blocks)]\n",
    "        )\n",
    "        self.res_out_conv = nn.Sequential(\n",
    "            nn.Conv2d(64, 64, kernel_size=3, padding=1),\n",
    "            nn.BatchNorm2d(64)\n",
    "        )\n",
    "        self.upsample_blocks = nn.Sequential(\n",
    "            *[UpSampleBlock(64, 64) for _ in range(upscale_factor // 2)]\n",
    "        )\n",
    "        self.out_conv = nn.Conv2d(64, out_channels, kernel_size=3, padding=1)\n",
    "\n",
    "    def forward(self, x):\n",
    "        x = self.in_conv(x)\n",
    "        residual = x\n",
    "        x = self.residual_blocks(x)\n",
    "        x = self.res_out_conv(x)\n",
    "        x = torch.add(x, residual)\n",
    "        x = self.upsample_blocks(x)\n",
    "        x = self.out_conv(x)\n",
    "        return x"
   ]
  },
  {
   "cell_type": "code",
   "execution_count": 4,
   "id": "595d1b2e",
   "metadata": {},
   "outputs": [
    {
     "name": "stdout",
     "output_type": "stream",
     "text": [
      "torch.Size([1, 3, 256, 256])\n"
     ]
    }
   ],
   "source": [
    "input_shape = (1, 3, 64, 64)  # Example input shape\n",
    "model = SRResNet(in_channels=3, out_channels=3, num_residual_blocks=16, upscale_factor=4)\n",
    "x = torch.randn(input_shape)\n",
    "output = model(x)\n",
    "print(output.shape)  # Should be (1, 3, 256, 256) for upscale_factor=4"
   ]
  },
  {
   "cell_type": "code",
   "execution_count": null,
   "id": "ceb44537",
   "metadata": {},
   "outputs": [],
   "source": []
  }
 ],
 "metadata": {
  "kernelspec": {
   "display_name": "srcnn",
   "language": "python",
   "name": "python3"
  },
  "language_info": {
   "codemirror_mode": {
    "name": "ipython",
    "version": 3
   },
   "file_extension": ".py",
   "mimetype": "text/x-python",
   "name": "python",
   "nbconvert_exporter": "python",
   "pygments_lexer": "ipython3",
   "version": "3.10.12"
  }
 },
 "nbformat": 4,
 "nbformat_minor": 5
}
