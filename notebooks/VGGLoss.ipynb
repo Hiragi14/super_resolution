{
 "cells": [
  {
   "cell_type": "code",
   "execution_count": 1,
   "id": "e2c1fec0",
   "metadata": {},
   "outputs": [],
   "source": [
    "import torch\n",
    "import torch.nn as nn\n",
    "from torchvision.models import vgg19\n",
    "from torchvision.models.feature_extraction import create_feature_extractor\n",
    "\n",
    "class VGGLoss(nn.Module):\n",
    "    def __init__(self):\n",
    "        super(VGGLoss, self).__init__()\n",
    "\n",
    "        # VGG19 pretrained on ImageNet\n",
    "        vgg = vgg19(pretrained=True).features.eval()\n",
    "        for param in vgg.parameters():\n",
    "            param.requires_grad = False\n",
    "\n",
    "        # Extract relu5_4 (features.35)\n",
    "        self.feature_extractor = create_feature_extractor(\n",
    "            vgg,\n",
    "            return_nodes={'35': 'feat'}  # features[35] is relu5_4\n",
    "        )\n",
    "\n",
    "        # ImageNet normalization\n",
    "        self.register_buffer('mean', torch.tensor([0.485, 0.456, 0.406]).view(1, 3, 1, 1))\n",
    "        self.register_buffer('std', torch.tensor([0.229, 0.224, 0.225]).view(1, 3, 1, 1))\n",
    "\n",
    "        # L1 loss is more robust to outliers than MSE\n",
    "        self.criterion = nn.L1Loss()\n",
    "\n",
    "    def forward(self, sr, hr):\n",
    "        \"\"\"\n",
    "        Args:\n",
    "            sr: Super-resolved image (B, 3, H, W), values in [0,1]\n",
    "            hr: High-resolution GT image (B, 3, H, W), values in [0,1]\n",
    "        Returns:\n",
    "            Perceptual loss between VGG features\n",
    "        \"\"\"\n",
    "        # Normalize to ImageNet stats\n",
    "        sr_norm = (sr - self.mean) / self.std\n",
    "        hr_norm = (hr - self.mean) / self.std\n",
    "\n",
    "        # Extract VGG features\n",
    "        sr_feat = self.feature_extractor(sr_norm)['feat']\n",
    "        hr_feat = self.feature_extractor(hr_norm)['feat']\n",
    "\n",
    "        # Compute perceptual loss\n",
    "        loss = self.criterion(sr_feat, hr_feat)\n",
    "        return loss\n"
   ]
  },
  {
   "cell_type": "code",
   "execution_count": 2,
   "id": "3c367ea7",
   "metadata": {},
   "outputs": [
    {
     "name": "stderr",
     "output_type": "stream",
     "text": [
      "/Network/Servers/fs.local/Volumes/home/kawai/nas/Document/workspace/sr_projects/srcnn_lightning/srcnn/lib/python3.10/site-packages/torchvision/models/_utils.py:208: UserWarning: The parameter 'pretrained' is deprecated since 0.13 and may be removed in the future, please use 'weights' instead.\n",
      "  warnings.warn(\n",
      "/Network/Servers/fs.local/Volumes/home/kawai/nas/Document/workspace/sr_projects/srcnn_lightning/srcnn/lib/python3.10/site-packages/torchvision/models/_utils.py:223: UserWarning: Arguments other than a weight enum or `None` for 'weights' are deprecated since 0.13 and may be removed in the future. The current behavior is equivalent to passing `weights=VGG19_Weights.IMAGENET1K_V1`. You can also use `weights=VGG19_Weights.DEFAULT` to get the most up-to-date weights.\n",
      "  warnings.warn(msg)\n"
     ]
    },
    {
     "name": "stdout",
     "output_type": "stream",
     "text": [
      "Downloading: \"https://download.pytorch.org/models/vgg19-dcbb9e9d.pth\" to /Network/Servers/fs.local/Volumes/home/kawai/.cache/torch/hub/checkpoints/vgg19-dcbb9e9d.pth\n"
     ]
    },
    {
     "name": "stderr",
     "output_type": "stream",
     "text": [
      "100%|██████████| 548M/548M [00:06<00:00, 88.1MB/s] \n"
     ]
    },
    {
     "name": "stdout",
     "output_type": "stream",
     "text": [
      "Perceptual loss: 0.027264084666967392\n"
     ]
    }
   ],
   "source": [
    "sr_input = torch.rand(1, 3, 224, 224)  # Example super-resolved input\n",
    "hr_input = torch.rand(1, 3, 224, 224)  # Example high-resolution ground truth\n",
    "vgg_loss = VGGLoss()\n",
    "loss_value = vgg_loss(sr_input, hr_input)\n",
    "print(f\"Perceptual loss: {loss_value.item()}\")"
   ]
  },
  {
   "cell_type": "code",
   "execution_count": null,
   "id": "95a106c4",
   "metadata": {},
   "outputs": [],
   "source": []
  }
 ],
 "metadata": {
  "kernelspec": {
   "display_name": "srcnn",
   "language": "python",
   "name": "python3"
  },
  "language_info": {
   "codemirror_mode": {
    "name": "ipython",
    "version": 3
   },
   "file_extension": ".py",
   "mimetype": "text/x-python",
   "name": "python",
   "nbconvert_exporter": "python",
   "pygments_lexer": "ipython3",
   "version": "3.10.12"
  }
 },
 "nbformat": 4,
 "nbformat_minor": 5
}
