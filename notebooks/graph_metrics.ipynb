{
 "cells": [
  {
   "cell_type": "code",
   "execution_count": 2,
   "id": "9e603eef",
   "metadata": {},
   "outputs": [],
   "source": [
    "import matplotlib.pyplot as plt\n",
    "import csv\n",
    "import numpy as np\n",
    "import pandas as pd"
   ]
  },
  {
   "cell_type": "code",
   "execution_count": 3,
   "id": "aad5531e",
   "metadata": {},
   "outputs": [],
   "source": [
    "# metrics = pd.read_csv('../logs/srcnn_lightning_Ychannel/version_1/metrics.csv')\n",
    "metrics = pd.read_csv('../logs/edsr_lightning/version_1/metrics.csv')"
   ]
  },
  {
   "cell_type": "code",
   "execution_count": 4,
   "id": "887ac5ac",
   "metadata": {},
   "outputs": [],
   "source": [
    "train_loss = metrics['train_loss'].dropna().values\n",
    "val_loss = metrics['val_loss'].dropna().values\n",
    "epochs = np.arange(len(train_loss))\n",
    "val_psnr = metrics['val_psnr'].dropna().values"
   ]
  },
  {
   "cell_type": "code",
   "execution_count": 5,
   "id": "f2c420e8",
   "metadata": {},
   "outputs": [
    {
     "data": {
      "text/plain": [
       "50"
      ]
     },
     "execution_count": 5,
     "metadata": {},
     "output_type": "execute_result"
    }
   ],
   "source": [
    "len(epochs)"
   ]
  },
  {
   "cell_type": "code",
   "execution_count": 6,
   "id": "313e5206",
   "metadata": {},
   "outputs": [
    {
     "data": {
      "application/vnd.microsoft.datawrangler.viewer.v0+json": {
       "columns": [
        {
         "name": "index",
         "rawType": "int64",
         "type": "integer"
        },
        {
         "name": "epoch",
         "rawType": "int64",
         "type": "integer"
        },
        {
         "name": "step",
         "rawType": "int64",
         "type": "integer"
        },
        {
         "name": "train_loss",
         "rawType": "float64",
         "type": "float"
        },
        {
         "name": "val_loss",
         "rawType": "float64",
         "type": "float"
        },
        {
         "name": "val_psnr",
         "rawType": "float64",
         "type": "float"
        }
       ],
       "ref": "b2b1cedd-11bc-4365-8b42-5b27e0b456d1",
       "rows": [
        [
         "0",
         "0",
         "49",
         "0.0661366358399391",
         null,
         null
        ],
        [
         "1",
         "0",
         "49",
         null,
         "0.0373861230909824",
         "24.57928466796875"
        ],
        [
         "2",
         "1",
         "99",
         "0.0285012461245059",
         null,
         null
        ],
        [
         "3",
         "1",
         "99",
         null,
         "0.0288528576493263",
         "26.63079071044922"
        ],
        [
         "4",
         "2",
         "149",
         "0.0269447285681962",
         null,
         null
        ],
        [
         "5",
         "2",
         "149",
         null,
         "0.0270995423197746",
         "27.666688919067383"
        ],
        [
         "6",
         "3",
         "199",
         "0.0354564450681209",
         null,
         null
        ],
        [
         "7",
         "3",
         "199",
         null,
         "0.0261026378720998",
         "28.00628471374512"
        ],
        [
         "8",
         "4",
         "249",
         "0.0230719279497861",
         null,
         null
        ],
        [
         "9",
         "4",
         "249",
         null,
         "0.0255077742040157",
         "28.34111595153809"
        ],
        [
         "10",
         "5",
         "299",
         "0.0246042851358652",
         null,
         null
        ],
        [
         "11",
         "5",
         "299",
         null,
         "0.0257459469139575",
         "28.37738800048828"
        ],
        [
         "12",
         "6",
         "349",
         "0.0193572919815778",
         null,
         null
        ],
        [
         "13",
         "6",
         "349",
         null,
         "0.0263478010892868",
         "28.323461532592773"
        ],
        [
         "14",
         "7",
         "399",
         "0.020998852327466",
         null,
         null
        ],
        [
         "15",
         "7",
         "399",
         null,
         "0.0249097272753715",
         "28.577428817749023"
        ],
        [
         "16",
         "8",
         "449",
         "0.023279869928956",
         null,
         null
        ],
        [
         "17",
         "8",
         "449",
         null,
         "0.024259066209197",
         "28.708568572998047"
        ],
        [
         "18",
         "9",
         "499",
         "0.0266098976135253",
         null,
         null
        ],
        [
         "19",
         "9",
         "499",
         null,
         "0.0248303823173046",
         "28.65013694763184"
        ],
        [
         "20",
         "10",
         "549",
         "0.0175242703408002",
         null,
         null
        ],
        [
         "21",
         "10",
         "549",
         null,
         "0.0241973046213388",
         "28.76346969604492"
        ],
        [
         "22",
         "11",
         "599",
         "0.0259611960500478",
         null,
         null
        ],
        [
         "23",
         "11",
         "599",
         null,
         "0.0239369273185729",
         "28.81755828857422"
        ],
        [
         "24",
         "12",
         "649",
         "0.0310290716588497",
         null,
         null
        ],
        [
         "25",
         "12",
         "649",
         null,
         "0.0235941838473081",
         "28.871950149536133"
        ],
        [
         "26",
         "13",
         "699",
         "0.031171666458249",
         null,
         null
        ],
        [
         "27",
         "13",
         "699",
         null,
         "0.0236372668296098",
         "28.886886596679688"
        ],
        [
         "28",
         "14",
         "749",
         "0.032918494194746",
         null,
         null
        ],
        [
         "29",
         "14",
         "749",
         null,
         "0.0236029047518968",
         "28.90875816345215"
        ],
        [
         "30",
         "15",
         "799",
         "0.0247337967157363",
         null,
         null
        ],
        [
         "31",
         "15",
         "799",
         null,
         "0.0236041024327278",
         "28.917219161987305"
        ],
        [
         "32",
         "16",
         "849",
         "0.0269251149147748",
         null,
         null
        ],
        [
         "33",
         "16",
         "849",
         null,
         "0.0236899498850107",
         "28.90060234069824"
        ],
        [
         "34",
         "17",
         "899",
         "0.032376792281866",
         null,
         null
        ],
        [
         "35",
         "17",
         "899",
         null,
         "0.0240160916000604",
         "28.85991859436035"
        ],
        [
         "36",
         "18",
         "949",
         "0.0141176301985979",
         null,
         null
        ],
        [
         "37",
         "18",
         "949",
         null,
         "0.0237039178609848",
         "28.91412353515625"
        ],
        [
         "38",
         "19",
         "999",
         "0.0362087786197662",
         null,
         null
        ],
        [
         "39",
         "19",
         "999",
         null,
         "0.0236424878239631",
         "28.928651809692383"
        ],
        [
         "40",
         "20",
         "1049",
         "0.0255976114422082",
         null,
         null
        ],
        [
         "41",
         "20",
         "1049",
         null,
         "0.0235884077847003",
         "28.943208694458008"
        ],
        [
         "42",
         "21",
         "1099",
         "0.0258399192243814",
         null,
         null
        ],
        [
         "43",
         "21",
         "1099",
         null,
         "0.0250686407089233",
         "28.693910598754883"
        ],
        [
         "44",
         "22",
         "1149",
         "0.0247756447643041",
         null,
         null
        ],
        [
         "45",
         "22",
         "1149",
         null,
         "0.0244072936475276",
         "28.83583068847656"
        ],
        [
         "46",
         "23",
         "1199",
         "0.0231147352606058",
         null,
         null
        ],
        [
         "47",
         "23",
         "1199",
         null,
         "0.0241677071899175",
         "28.86868095397949"
        ],
        [
         "48",
         "24",
         "1249",
         "0.0277439262717962",
         null,
         null
        ],
        [
         "49",
         "24",
         "1249",
         null,
         "0.0231445357203483",
         "29.025850296020508"
        ]
       ],
       "shape": {
        "columns": 5,
        "rows": 100
       }
      },
      "text/html": [
       "<div>\n",
       "<style scoped>\n",
       "    .dataframe tbody tr th:only-of-type {\n",
       "        vertical-align: middle;\n",
       "    }\n",
       "\n",
       "    .dataframe tbody tr th {\n",
       "        vertical-align: top;\n",
       "    }\n",
       "\n",
       "    .dataframe thead th {\n",
       "        text-align: right;\n",
       "    }\n",
       "</style>\n",
       "<table border=\"1\" class=\"dataframe\">\n",
       "  <thead>\n",
       "    <tr style=\"text-align: right;\">\n",
       "      <th></th>\n",
       "      <th>epoch</th>\n",
       "      <th>step</th>\n",
       "      <th>train_loss</th>\n",
       "      <th>val_loss</th>\n",
       "      <th>val_psnr</th>\n",
       "    </tr>\n",
       "  </thead>\n",
       "  <tbody>\n",
       "    <tr>\n",
       "      <th>0</th>\n",
       "      <td>0</td>\n",
       "      <td>49</td>\n",
       "      <td>0.066137</td>\n",
       "      <td>NaN</td>\n",
       "      <td>NaN</td>\n",
       "    </tr>\n",
       "    <tr>\n",
       "      <th>1</th>\n",
       "      <td>0</td>\n",
       "      <td>49</td>\n",
       "      <td>NaN</td>\n",
       "      <td>0.037386</td>\n",
       "      <td>24.579285</td>\n",
       "    </tr>\n",
       "    <tr>\n",
       "      <th>2</th>\n",
       "      <td>1</td>\n",
       "      <td>99</td>\n",
       "      <td>0.028501</td>\n",
       "      <td>NaN</td>\n",
       "      <td>NaN</td>\n",
       "    </tr>\n",
       "    <tr>\n",
       "      <th>3</th>\n",
       "      <td>1</td>\n",
       "      <td>99</td>\n",
       "      <td>NaN</td>\n",
       "      <td>0.028853</td>\n",
       "      <td>26.630791</td>\n",
       "    </tr>\n",
       "    <tr>\n",
       "      <th>4</th>\n",
       "      <td>2</td>\n",
       "      <td>149</td>\n",
       "      <td>0.026945</td>\n",
       "      <td>NaN</td>\n",
       "      <td>NaN</td>\n",
       "    </tr>\n",
       "    <tr>\n",
       "      <th>...</th>\n",
       "      <td>...</td>\n",
       "      <td>...</td>\n",
       "      <td>...</td>\n",
       "      <td>...</td>\n",
       "      <td>...</td>\n",
       "    </tr>\n",
       "    <tr>\n",
       "      <th>95</th>\n",
       "      <td>47</td>\n",
       "      <td>2399</td>\n",
       "      <td>NaN</td>\n",
       "      <td>0.023995</td>\n",
       "      <td>28.956448</td>\n",
       "    </tr>\n",
       "    <tr>\n",
       "      <th>96</th>\n",
       "      <td>48</td>\n",
       "      <td>2449</td>\n",
       "      <td>0.017957</td>\n",
       "      <td>NaN</td>\n",
       "      <td>NaN</td>\n",
       "    </tr>\n",
       "    <tr>\n",
       "      <th>97</th>\n",
       "      <td>48</td>\n",
       "      <td>2449</td>\n",
       "      <td>NaN</td>\n",
       "      <td>0.023257</td>\n",
       "      <td>29.079231</td>\n",
       "    </tr>\n",
       "    <tr>\n",
       "      <th>98</th>\n",
       "      <td>49</td>\n",
       "      <td>2499</td>\n",
       "      <td>0.024485</td>\n",
       "      <td>NaN</td>\n",
       "      <td>NaN</td>\n",
       "    </tr>\n",
       "    <tr>\n",
       "      <th>99</th>\n",
       "      <td>49</td>\n",
       "      <td>2499</td>\n",
       "      <td>NaN</td>\n",
       "      <td>0.024057</td>\n",
       "      <td>28.968407</td>\n",
       "    </tr>\n",
       "  </tbody>\n",
       "</table>\n",
       "<p>100 rows × 5 columns</p>\n",
       "</div>"
      ],
      "text/plain": [
       "    epoch  step  train_loss  val_loss   val_psnr\n",
       "0       0    49    0.066137       NaN        NaN\n",
       "1       0    49         NaN  0.037386  24.579285\n",
       "2       1    99    0.028501       NaN        NaN\n",
       "3       1    99         NaN  0.028853  26.630791\n",
       "4       2   149    0.026945       NaN        NaN\n",
       "..    ...   ...         ...       ...        ...\n",
       "95     47  2399         NaN  0.023995  28.956448\n",
       "96     48  2449    0.017957       NaN        NaN\n",
       "97     48  2449         NaN  0.023257  29.079231\n",
       "98     49  2499    0.024485       NaN        NaN\n",
       "99     49  2499         NaN  0.024057  28.968407\n",
       "\n",
       "[100 rows x 5 columns]"
      ]
     },
     "execution_count": 6,
     "metadata": {},
     "output_type": "execute_result"
    }
   ],
   "source": [
    "metrics"
   ]
  },
  {
   "cell_type": "code",
   "execution_count": 5,
   "id": "68801c9d",
   "metadata": {},
   "outputs": [
    {
     "data": {
      "image/png": "[encoded data removed]",
      "text/plain": [
       "<Figure size 640x480 with 2 Axes>"
      ]
     },
     "metadata": {},
     "output_type": "display_data"
    }
   ],
   "source": [
    "fig = plt.figure()\n",
    "ax1 = fig.add_subplot(111)\n",
    "ax2 = ax1.twinx()\n",
    "ax1.plot(epochs, train_loss, label='Train Loss', color='blue', linestyle='--')\n",
    "ax1.plot(epochs, val_loss, label='Validation Loss', color='orange', linestyle='-')\n",
    "ax2.plot(epochs, val_psnr, label='Validation PSNR', color='green', linestyle='-.')\n",
    "ax1.set_xlabel('Epoch')\n",
    "ax1.set_ylabel('Loss')\n",
    "ax2.set_ylabel('PSNR')\n",
    "ax1.set_title('Training and Validation Loss with PSNR')\n",
    "ax1.legend(loc='upper left')\n",
    "ax2.legend(loc='upper right')\n",
    "ax1.grid()\n",
    "plt.show()"
   ]
  },
  {
   "cell_type": "code",
   "execution_count": null,
   "id": "e4dfddaf",
   "metadata": {},
   "outputs": [],
   "source": []
  }
 ],
 "metadata": {
  "kernelspec": {
   "display_name": "srcnn",
   "language": "python",
   "name": "python3"
  },
  "language_info": {
   "codemirror_mode": {
    "name": "ipython",
    "version": 3
   },
   "file_extension": ".py",
   "mimetype": "text/x-python",
   "name": "python",
   "nbconvert_exporter": "python",
   "pygments_lexer": "ipython3",
   "version": "3.10.12"
  }
 },
 "nbformat": 4,
 "nbformat_minor": 5
}
