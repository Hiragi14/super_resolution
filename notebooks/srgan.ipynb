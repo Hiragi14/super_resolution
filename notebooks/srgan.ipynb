{
 "cells": [
  {
   "cell_type": "code",
   "execution_count": 1,
   "id": "9d0624fb",
   "metadata": {},
   "outputs": [],
   "source": [
    "import torch\n",
    "import torch.nn as nn\n",
    "import torch.nn.functional as F\n",
    "\n",
    "\n",
    "class ResidualBlock(nn.Module):\n",
    "    def __init__(self, in_channels):\n",
    "        super(ResidualBlock, self).__init__()\n",
    "        self.rb = nn.Sequential(\n",
    "            nn.Conv2d(in_channels, in_channels, kernel_size=3, padding=1),\n",
    "            nn.BatchNorm2d(in_channels),\n",
    "            nn.PReLU(),\n",
    "            nn.Conv2d(in_channels, in_channels, kernel_size=3, padding=1),\n",
    "            nn.BatchNorm2d(in_channels)\n",
    "        )\n",
    "    def forward(self, x):\n",
    "        out = self.rb(x)\n",
    "        out = torch.add(x, out)\n",
    "        return out\n",
    "\n",
    "\n",
    "class UpSampleBlock(nn.Module):\n",
    "    def __init__(self, in_channels, out_channels, scale_factor=2):\n",
    "        super(UpSampleBlock, self).__init__()\n",
    "        self.upsample_block = nn.Sequential(\n",
    "            nn.Conv2d(in_channels, out_channels * (scale_factor ** 2), kernel_size=3, padding=1),\n",
    "            nn.PixelShuffle(scale_factor),\n",
    "            nn.PReLU()\n",
    "        )\n",
    "    def forward(self, x):\n",
    "        out = self.upsample_block(x)\n",
    "        return out\n",
    "\n",
    "\n",
    "class SRResNet(nn.Module):\n",
    "    def __init__(self, in_channels=3, out_channels=3, num_residual_blocks=16, upscale_factor=4):\n",
    "        super(SRResNet, self).__init__()\n",
    "        assert upscale_factor in [2, 4, 8], \"Upscale factor must be one of [2, 4, 8].\"\n",
    "        self.in_conv = nn.Sequential(\n",
    "            nn.Conv2d(in_channels, 64, kernel_size=3, padding=1),\n",
    "            nn.PReLU()\n",
    "        )\n",
    "        self.residual_blocks = nn.Sequential(\n",
    "            *[ResidualBlock(64) for _ in range(num_residual_blocks)]\n",
    "        )\n",
    "        self.res_out_conv = nn.Sequential(\n",
    "            nn.Conv2d(64, 64, kernel_size=3, padding=1),\n",
    "            nn.BatchNorm2d(64)\n",
    "        )\n",
    "        self.upsample_blocks = nn.Sequential(\n",
    "            *[UpSampleBlock(64, 64) for _ in range(upscale_factor // 2)]\n",
    "        )\n",
    "        self.out_conv = nn.Conv2d(64, out_channels, kernel_size=3, padding=1)\n",
    "\n",
    "    def forward(self, x):\n",
    "        x = self.in_conv(x)\n",
    "        residual = x\n",
    "        x = self.residual_blocks(x)\n",
    "        x = self.res_out_conv(x)\n",
    "        x = torch.add(x, residual)\n",
    "        x = self.upsample_blocks(x)\n",
    "        x = self.out_conv(x)\n",
    "        return x"
   ]
  },
  {
   "cell_type": "code",
   "execution_count": 2,
   "id": "14c2ac92",
   "metadata": {},
   "outputs": [],
   "source": [
    "import torch\n",
    "import torch.nn as nn\n",
    "import torch.nn.functional as F\n",
    "\n",
    "\n",
    "\n",
    "class Generator(nn.Module):\n",
    "    def __init__(self, in_channels=3, out_channels=3, num_residual_blocks=5, upscale_factor=4):\n",
    "        super(Generator, self).__init__()\n",
    "        self.srresnet = SRResNet(in_channels, out_channels, num_residual_blocks, upscale_factor)\n",
    "\n",
    "    def forward(self, x):\n",
    "        return self.srresnet(x)\n",
    "\n",
    "\n",
    "class Discriminator(nn.Module):\n",
    "    def __init__(self, img_size=96, in_channels=3, num_filters=64):\n",
    "        super(Discriminator, self).__init__()\n",
    "        self.img_size = img_size\n",
    "        self.in_conv = nn.Sequential(\n",
    "            nn.Conv2d(in_channels, num_filters, kernel_size=3, stride=1, padding=1),\n",
    "            nn.LeakyReLU(0.2, inplace=True)\n",
    "        )\n",
    "        self.model = nn.Sequential(\n",
    "            self._conv_block(num_filters, 64, kernel_size=3, stride=2, padding=1),\n",
    "            self._conv_block(64, 128, kernel_size=3, stride=2, padding=1),\n",
    "            self._conv_block(128, 128, kernel_size=3, stride=2, padding=1),\n",
    "            self._conv_block(128, 256, kernel_size=3, stride=2, padding=1),\n",
    "            self._conv_block(256, 256, kernel_size=3, stride=2, padding=1),\n",
    "            self._conv_block(256, 512, kernel_size=3, stride=2, padding=1),\n",
    "            self._conv_block(512, 512, kernel_size=3, stride=2, padding=1),\n",
    "            self._dence_block()\n",
    "        )\n",
    "    \n",
    "    def forward(self, x):\n",
    "        x = self.in_conv(x)\n",
    "        x = self.model(x)\n",
    "        return x\n",
    "\n",
    "    def _conv_block(self, in_channels, out_channels, kernel_size=3, stride=1, padding=1):\n",
    "        return nn.Sequential(\n",
    "            nn.Conv2d(in_channels, out_channels, kernel_size, stride, padding),\n",
    "            nn.LeakyReLU(0.2, inplace=True),\n",
    "            nn.BatchNorm2d(out_channels) if out_channels != 1 else nn.Identity()\n",
    "        )\n",
    "    \n",
    "    def _dence_block(self):\n",
    "        return nn.Sequential(\n",
    "            nn.AdaptiveAvgPool2d((6, 6)),\n",
    "            nn.Flatten(),\n",
    "            nn.Linear(512 * 6 * 6, 1024),\n",
    "            nn.LeakyReLU(0.2, inplace=True),\n",
    "            nn.Linear(1024, 1),\n",
    "            nn.Sigmoid()\n",
    "        )"
   ]
  },
  {
   "cell_type": "code",
   "execution_count": 3,
   "id": "3638daef",
   "metadata": {},
   "outputs": [
    {
     "name": "stdout",
     "output_type": "stream",
     "text": [
      "torch.Size([1, 3, 256, 256])\n"
     ]
    }
   ],
   "source": [
    "input = torch.randn(1, 3, 64, 64)  # Example input tensor\n",
    "generator = Generator()\n",
    "output = generator(input)\n",
    "print(output.shape)  # Should print torch.Size([1, 3, 256,"
   ]
  },
  {
   "cell_type": "code",
   "execution_count": 4,
   "id": "fcf940c3",
   "metadata": {},
   "outputs": [
    {
     "name": "stdout",
     "output_type": "stream",
     "text": [
      "torch.Size([1, 1])\n"
     ]
    }
   ],
   "source": [
    "Discriminator = Discriminator()\n",
    "disc_output = Discriminator(output)\n",
    "print(disc_output.shape)  # Should print torch.Size([1, 1, 1, 1])"
   ]
  },
  {
   "cell_type": "code",
   "execution_count": 5,
   "id": "993ceeb9",
   "metadata": {},
   "outputs": [
    {
     "data": {
      "text/plain": [
       "<All keys matched successfully>"
      ]
     },
     "execution_count": 5,
     "metadata": {},
     "output_type": "execute_result"
    }
   ],
   "source": [
    "g_model = torch.load(\"../logs/srgan_lightning/g_pre_weights.pth\")\n",
    "generator.load_state_dict(g_model)"
   ]
  },
  {
   "cell_type": "code",
   "execution_count": null,
   "id": "2d423019",
   "metadata": {},
   "outputs": [],
   "source": []
  }
 ],
 "metadata": {
  "kernelspec": {
   "display_name": "srcnn",
   "language": "python",
   "name": "python3"
  },
  "language_info": {
   "codemirror_mode": {
    "name": "ipython",
    "version": 3
   },
   "file_extension": ".py",
   "mimetype": "text/x-python",
   "name": "python",
   "nbconvert_exporter": "python",
   "pygments_lexer": "ipython3",
   "version": "3.10.12"
  }
 },
 "nbformat": 4,
 "nbformat_minor": 5
}
